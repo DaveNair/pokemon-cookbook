{
 "cells": [
  {
   "cell_type": "markdown",
   "id": "4613892c-2fbd-4193-a7f0-7a1d5550433a",
   "metadata": {},
   "source": [
    "# Clean Data\n",
    "\n",
    "We will use this file to quickly clean up the raw data that we have downloaded."
   ]
  },
  {
   "cell_type": "markdown",
   "id": "cc62661b-70a9-44c1-aa2a-18ec46227951",
   "metadata": {},
   "source": [
    "## Smogon\n",
    "\n",
    "First we have Smogon data - Pokedex & Formats."
   ]
  },
  {
   "cell_type": "code",
   "execution_count": null,
   "id": "ae4eb97f-51fe-4358-81b1-e4bb9cc70f88",
   "metadata": {},
   "outputs": [],
   "source": [
    "from pathlib import Path\n",
    "import json\n",
    "\n",
    "SOURCE_FILE = Path(\"../data/raw/smogon/pokedex.ts\") # UP past repo/notebooks, and then down\n",
    "DEST_FILE = Path(\"pokedex.json\") # we'll save here and move into processed\n",
    "\n",
    "def check_for_number_id(line):\n",
    "    if '\"num\":' in line:\n",
    "        key, val = line.split(':', 1)\n",
    "        return f'{key.strip()}: \"{val.strip().rstrip(\",\")}\",'\n",
    "    return line\n",
    "\n",
    "def rebuild_line_from_tokens(tokens, whitespace=''):\n",
    "    '''For testing.'''\n",
    "    rebuilt = []\n",
    "    for tok in tokens:\n",
    "        print(tok)\n",
    "        part = tok['part']\n",
    "        if not tok['in_quote'] and ':' in part:\n",
    "            key, rest = part.split(':', 1)\n",
    "            part = f'\"{key.strip()}\":{rest.strip()}'\n",
    "        rebuilt.append(part)\n",
    "    return whitespace+ ' '.join(rebuilt)\n",
    "\n",
    "\n",
    "def split_tokens_with_quote_state(line):\n",
    "    '''The idea here is straightforward. We are going to split the line by whitespace into parts. We will iterate through each part and \n",
    "    keep track of whether it is part of a larger quote (either in-quote or not). This helps us rebuild the string with double-quotes.'''\n",
    "    parts = line.split()\n",
    "    output = []\n",
    "    in_quote = False\n",
    "\n",
    "    for part in parts:\n",
    "        starts_with = part.startswith('\"')\n",
    "        ends_with = part.rstrip(',').endswith('\"') ## because some entries are parts of lists\n",
    "\n",
    "        if starts_with and ends_with and len(part) > 1:\n",
    "            output.append({'in_quote': True, 'part': part})\n",
    "            continue\n",
    "\n",
    "        if starts_with:\n",
    "            in_quote = True\n",
    "\n",
    "        output.append({'in_quote': in_quote, 'part': part})\n",
    "\n",
    "        if ends_with:\n",
    "            in_quote = False\n",
    "\n",
    "    return output"
   ]
  },
  {
   "cell_type": "code",
   "execution_count": null,
   "id": "08b09fc5-5dc2-4208-8d97-ee402d5c3839",
   "metadata": {},
   "outputs": [],
   "source": [
    "# Process lines\n",
    "with open(SOURCE_FILE, 'r', encoding='utf-8') as f:\n",
    "    original_lines = f.readlines()\n",
    "\n",
    "output_lines = ['{']\n",
    "\n",
    "for raw_line in original_lines[1:]:  # Skip export line\n",
    "    try:\n",
    "        raw_line = raw_line.split('//')[0]\n",
    "        leading_ws = raw_line[:len(raw_line) - len(raw_line.lstrip())]\n",
    "        line = raw_line.strip()\n",
    "        if not line:\n",
    "            continue\n",
    "\n",
    "        tokens = split_tokens_with_quote_state(line)\n",
    "        rebuilt = []\n",
    "        for tok in tokens:\n",
    "            if not tok['in_quote'] and ':' in tok['part']:\n",
    "                key = tok['part'].split(':', 1)[0]\n",
    "                rest = tok['part'][len(key)+1:]\n",
    "                quoted = f'\"{key.strip()}\":{rest}'\n",
    "                rebuilt.append(quoted)\n",
    "            else:\n",
    "                rebuilt.append(tok['part'])\n",
    "\n",
    "        newline = check_for_number_id(' '.join(rebuilt))\n",
    "\n",
    "        output_lines.append(leading_ws + newline)\n",
    "\n",
    "    except Exception as e:\n",
    "        print(f\"Error: {e}\")\n",
    "        break\n",
    "\n",
    "output_lines.append('}')\n",
    "\n",
    "# Write to file\n",
    "with open(DEST_FILE, 'w', encoding='utf-8') as f:\n",
    "    f.write('\\n'.join(output_lines))\n"
   ]
  },
  {
   "cell_type": "code",
   "execution_count": null,
   "id": "134a94ef-1e67-49c1-b9e8-ee1171bd20d6",
   "metadata": {},
   "outputs": [],
   "source": []
  }
 ],
 "metadata": {
  "kernelspec": {
   "display_name": "Python 3 (ipykernel)",
   "language": "python",
   "name": "python3"
  },
  "language_info": {
   "codemirror_mode": {
    "name": "ipython",
    "version": 3
   },
   "file_extension": ".py",
   "mimetype": "text/x-python",
   "name": "python",
   "nbconvert_exporter": "python",
   "pygments_lexer": "ipython3",
   "version": "3.13.3"
  }
 },
 "nbformat": 4,
 "nbformat_minor": 5
}
