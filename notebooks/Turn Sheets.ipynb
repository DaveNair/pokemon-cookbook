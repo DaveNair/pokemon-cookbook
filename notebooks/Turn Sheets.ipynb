{
 "cells": [
  {
   "cell_type": "markdown",
   "id": "db9854af-e5b5-43ec-bd9d-7997545ac37e",
   "metadata": {},
   "source": [
    "# Pokemon Turn Sheets\n",
    "\n",
    "This is a brand new invention that I am making up as I go! Let's keep things lite and move quickly."
   ]
  },
  {
   "cell_type": "code",
   "execution_count": null,
   "id": "f5249fd2-de30-4fce-b6d4-efb3cc097448",
   "metadata": {},
   "outputs": [],
   "source": [
    "from pathlib import Path\n",
    "import sys\n",
    "\n",
    "## adding Repo to Root, so I can import whatever\n",
    "ROOT = Path().resolve().parent\n",
    "sys.path.append(str(ROOT))\n",
    "sys.exit(1)\n",
    "from lib import core\n",
    "\n",
    "Orang = 'Oranguru'\n",
    "test = core.get_pokedata(Orang, 'types')\n",
    "print(test)\n",
    "\n",
    "## uh-oh! Json Error. We need to clean the file some more.\n"
   ]
  },
  {
   "cell_type": "code",
   "execution_count": null,
   "id": "12e8c121-6226-4b84-94f5-e639f5f1154e",
   "metadata": {},
   "outputs": [],
   "source": []
  }
 ],
 "metadata": {
  "kernelspec": {
   "display_name": "Python 3 (ipykernel)",
   "language": "python",
   "name": "python3"
  },
  "language_info": {
   "codemirror_mode": {
    "name": "ipython",
    "version": 3
   },
   "file_extension": ".py",
   "mimetype": "text/x-python",
   "name": "python",
   "nbconvert_exporter": "python",
   "pygments_lexer": "ipython3",
   "version": "3.13.3"
  }
 },
 "nbformat": 4,
 "nbformat_minor": 5
}
