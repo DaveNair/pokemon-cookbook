{
 "cells": [
  {
   "cell_type": "markdown",
   "id": "b22844fe-03aa-4199-9ca5-a11ff38d7a30",
   "metadata": {},
   "source": [
    "# Plots\n",
    "\n",
    "I'm making a file to explore & test my various plotting functions. First up is the Pokepoint!\n",
    "\n",
    "# Pokepoints\n",
    "\n",
    "This is the building block of my charts."
   ]
  },
  {
   "cell_type": "code",
   "execution_count": null,
   "id": "1da11456-4ec6-495c-a621-675da2fa7d22",
   "metadata": {},
   "outputs": [],
   "source": [
    "import matplotlib.pyplot as plt\n",
    "from pathlib import Path\n",
    "import sys\n",
    "\n",
    "## we can add $PARENT_PATH to root, so we can run & import stuff inside\n",
    "# REPO_PATH = Path(__file__).resolve().parent.parent\n",
    "sys.path.append('..')\n",
    "from visuals.pokepoint import Pokepoint\n",
    "\n",
    "fig, ax = plt.subplots()\n",
    "\n",
    "orang = Pokepoint([\"Normal\",\"Psychic\"])\n",
    "orang.draw(ax, x=1, y=1)\n",
    "\n",
    "orang.set_status(\"PAR\")\n",
    "orang.set_health(0.4)\n",
    "orang.draw(ax, x=3, y=1)\n",
    "\n",
    "ax.set_xlim(0, 4)\n",
    "ax.set_ylim(0, 2)\n",
    "ax.set_aspect(\"equal\")\n",
    "plt.show()\n"
   ]
  },
  {
   "cell_type": "code",
   "execution_count": null,
   "id": "0306dda6-fd61-4bdd-84ed-3cf4967c4510",
   "metadata": {},
   "outputs": [],
   "source": []
  }
 ],
 "metadata": {
  "kernelspec": {
   "display_name": "Python 3 (ipykernel)",
   "language": "python",
   "name": "python3"
  },
  "language_info": {
   "codemirror_mode": {
    "name": "ipython",
    "version": 3
   },
   "file_extension": ".py",
   "mimetype": "text/x-python",
   "name": "python",
   "nbconvert_exporter": "python",
   "pygments_lexer": "ipython3",
   "version": "3.13.3"
  }
 },
 "nbformat": 4,
 "nbformat_minor": 5
}
